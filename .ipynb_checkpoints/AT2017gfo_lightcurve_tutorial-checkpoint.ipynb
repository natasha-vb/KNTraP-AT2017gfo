{
 "cells": [
  {
   "cell_type": "code",
   "execution_count": 2,
   "id": "8feae237-b71c-48aa-b73f-42cab6b04f1e",
   "metadata": {},
   "outputs": [
    {
     "name": "stderr",
     "output_type": "stream",
     "text": [
      "WARNING: AstropyDeprecationWarning: The update_default_config function is deprecated and may be removed in a future version. [sncosmo]\n"
     ]
    },
    {
     "name": "stdout",
     "output_type": "stream",
     "text": [
      "Install afterglowpy if you want to timeout simulations.\n"
     ]
    }
   ],
   "source": [
    "#general modules\n",
    "import numpy as np\n",
    "import pandas as pd\n",
    "import matplotlib.pyplot as plt\n",
    "import os, sys, time, glob\n",
    "from astropy.time import Time\n",
    "import copy\n",
    "import scipy\n",
    "#nmma modules\n",
    "sys.path.append('/home/nvanbemmel/KNTraP/model_fitting/nmma') #path to nmma\n",
    "import nmma\n",
    "import nmma.em.utils as utils\n",
    "from nmma.em.model import SimpleKilonovaLightCurveModel,GRBLightCurveModel, SVDLightCurveModel, KilonovaGRBLightCurveModel, GenericCombineLightCurveModel\n",
    "from nmma.em import training, utils, model_parameters"
   ]
  },
  {
   "cell_type": "code",
   "execution_count": 3,
   "id": "011647b3-bcfe-497d-8fe6-0e369ae2a492",
   "metadata": {},
   "outputs": [],
   "source": [
    "import afterglowpy as grb"
   ]
  },
  {
   "cell_type": "markdown",
   "id": "6e7f71ec-1956-44d5-a95c-00e8d977373e",
   "metadata": {},
   "source": [
    "# Generate a light-curve Bulla 2019 model"
   ]
  },
  {
   "cell_type": "code",
   "execution_count": 4,
   "id": "da3536c1-5687-4a74-892f-40ee2107d422",
   "metadata": {},
   "outputs": [],
   "source": [
    "# create the object\n",
    "tmin, tmax, dt = 0.5, 20.0, 0.1\n",
    "sample_times = np.arange(tmin, tmax + dt, dt)"
   ]
  },
  {
   "cell_type": "code",
   "execution_count": 9,
   "id": "0fd94e0d-cfc4-4f28-a340-9dd82713e56f",
   "metadata": {},
   "outputs": [],
   "source": [
    "kn_model = SimpleKilonovaLightCurveModel(sample_times=sample_times)"
   ]
  },
  {
   "cell_type": "code",
   "execution_count": 12,
   "id": "8f0e92e8-0340-47ce-bc23-e3b8331c8184",
   "metadata": {},
   "outputs": [],
   "source": [
    "# run the simulation\n",
    "bestfit_params = {\n",
    "    \"luminosity_distance\": 350,\n",
    "    \"beta\": 3.6941470839046575,\n",
    "    \"log10_kappa_r\": 0.98,\n",
    "    \"KNtimeshift\": 0.183516607107672,\n",
    "    \"log10_vej\": -0.48,\n",
    "    \"log10_Mej\": -0.52,\n",
    "}"
   ]
  },
  {
   "cell_type": "code",
   "execution_count": 13,
   "id": "aa559860-da1c-4503-ad93-56c25a2e6b04",
   "metadata": {},
   "outputs": [
    {
     "name": "stderr",
     "output_type": "stream",
     "text": [
      "/home/nvanbemmel/KNTraP/model_fitting/nmma/nmma/em/utils.py:1073: RuntimeWarning: invalid value encountered in true_divide\n",
      "  Tobs = 1e10 * (Ltot / (4 * np.pi * Rphoto**2 * sigSB)) ** (0.25)\n"
     ]
    }
   ],
   "source": [
    "_, mag_kn = kn_model.generate_lightcurve(sample_times, bestfit_params)"
   ]
  },
  {
   "cell_type": "code",
   "execution_count": 16,
   "id": "c7681f30",
   "metadata": {},
   "outputs": [
    {
     "data": {
      "image/png": "[encoded data removed]",
      "text/plain": [
       "<Figure size 640x480 with 1 Axes>"
      ]
     },
     "metadata": {},
     "output_type": "display_data"
    }
   ],
   "source": [
    "scatter = plt.scatter(np.arange(0,196,1),mag_kn['i'],c='r')\n",
    "ax = scatter.axes\n",
    "ax.invert_yaxis()\n",
    "plt.show()"
   ]
  },
  {
   "cell_type": "markdown",
   "id": "548a0df3-1396-42b9-b22c-10d810791f0e",
   "metadata": {},
   "source": [
    "# 2. Plot AT17gfo light-curve"
   ]
  },
  {
   "cell_type": "markdown",
   "id": "c12a8967-7642-4d63-8508-c2c66b816d80",
   "metadata": {},
   "source": [
    "# 3. Fit Bulla 2019 model to AT17gfo"
   ]
  },
  {
   "cell_type": "markdown",
   "id": "f11aaa9c-8775-4ec5-b6f1-d46b65eb99f0",
   "metadata": {},
   "source": [
    "# 4. Using Bulla obtained parameters generate AT17gfo-like light-curves at different redshifts and samples"
   ]
  },
  {
   "cell_type": "code",
   "execution_count": null,
   "id": "ee75fbc2-0f81-4abf-87df-b5efeb0d7b6b",
   "metadata": {},
   "outputs": [],
   "source": []
  }
 ],
 "metadata": {
  "kernelspec": {
   "display_name": "Python 3 (ipykernel)",
   "language": "python",
   "name": "python3"
  },
  "language_info": {
   "codemirror_mode": {
    "name": "ipython",
    "version": 3
   },
   "file_extension": ".py",
   "mimetype": "text/x-python",
   "name": "python",
   "nbconvert_exporter": "python",
   "pygments_lexer": "ipython3",
   "version": "3.9.13"
  },
  "vscode": {
   "interpreter": {
    "hash": "4f2297210c3cea95533424d45b6450cac4c0fff6aa0bbb88eb851a03214a45bd"
   }
  }
 },
 "nbformat": 4,
 "nbformat_minor": 5
}

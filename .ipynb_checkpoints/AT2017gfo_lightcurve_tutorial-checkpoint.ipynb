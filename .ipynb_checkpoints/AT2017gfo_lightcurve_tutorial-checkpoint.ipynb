{
 "cells": [
  {
   "cell_type": "code",
   "execution_count": 1,
   "id": "8feae237-b71c-48aa-b73f-42cab6b04f1e",
   "metadata": {},
   "outputs": [
    {
     "name": "stdout",
     "output_type": "stream",
     "text": [
      "No version information file '.version' found\n"
     ]
    },
    {
     "name": "stderr",
     "output_type": "stream",
     "text": [
      "WARNING: AstropyDeprecationWarning: The update_default_config function is deprecated and may be removed in a future version. [sncosmo]\n"
     ]
    },
    {
     "name": "stdout",
     "output_type": "stream",
     "text": [
      "Install wrapt_timeout_decorator if you want timeout simulations.\n"
     ]
    }
   ],
   "source": [
    "#general modules\n",
    "import numpy as np\n",
    "import pandas as pd\n",
    "import matplotlib.pyplot as plt\n",
    "import os, sys, time, glob\n",
    "from astropy.time import Time\n",
    "import copy\n",
    "import scipy\n",
    "\n",
    "#nmma modules\n",
    "nmmapath = os.getenv('NMMA') # path to nmma from environment variable\n",
    "sys.path.append(nmmapath) \n",
    "import nmma\n",
    "import nmma.em.utils as utils\n",
    "import nmma.em.io as io\n",
    "from nmma.em.model import SimpleKilonovaLightCurveModel,GRBLightCurveModel, SVDLightCurveModel, KilonovaGRBLightCurveModel, GenericCombineLightCurveModel\n",
    "from nmma.em import training, utils, model_parameters\n",
    "from nmma.em import analysis\n",
    "# from nmma.eos import create_injection"
   ]
  },
  {
   "cell_type": "code",
   "execution_count": 2,
   "id": "011647b3-bcfe-497d-8fe6-0e369ae2a492",
   "metadata": {},
   "outputs": [],
   "source": [
    "import afterglowpy as grb"
   ]
  },
  {
   "cell_type": "markdown",
   "id": "6e7f71ec-1956-44d5-a95c-00e8d977373e",
   "metadata": {},
   "source": [
    "# Generate a light-curve Bulla 2019 model"
   ]
  },
  {
   "cell_type": "code",
   "execution_count": 3,
   "id": "a8499f4c",
   "metadata": {},
   "outputs": [],
   "source": [
    "model_name = \"Bu2019lm\"\n",
    "n_coeff = 3\n",
    "# The array of times we'll use to examine each lightcurve\n",
    "tini, tmax, dt = 0.1, 5.0, 0.2\n",
    "tt = np.arange(tini, tmax + dt, dt)  \n",
    "\n",
    "# filters to be used\n",
    "filts = [\"u\",\"g\",\"r\",\"i\",\"z\",\"y\",\"J\",\"H\",\"K\"] "
   ]
  },
  {
   "cell_type": "code",
   "execution_count": 4,
   "id": "d738c687",
   "metadata": {},
   "outputs": [
    {
     "name": "stdout",
     "output_type": "stream",
     "text": [
      "/home/nvanbemmel/KNTraP/model_fitting/KNTraP-AT2017gfo\n"
     ]
    }
   ],
   "source": [
    "# paths\n",
    "print(os.getcwd())\n",
    "dataDir = f\"{nmmapath}/nmma/tests/data/bulla\" # Example absolute path: \"/Users/fabioragosta/nmma/nmma/tests/data/bulla\"\n",
    "ModelPath = f\"{nmmapath}/svdmodels/Bu2019lm\" # Example absolute path: \"/Users/fabioragosta/nmma/svdmodels\"\n",
    "filenames = glob.glob(\"%s/*.dat\" % dataDir)"
   ]
  },
  {
   "cell_type": "code",
   "execution_count": 5,
   "id": "36f21fe3",
   "metadata": {},
   "outputs": [],
   "source": [
    "# load data\n",
    "data = io.read_photometry_files(filenames, filters=filts) \n",
    "# Load the model data\n",
    "training_data, parameters = model_parameters.Bu2019lm_sparse(data)"
   ]
  },
  {
   "cell_type": "code",
   "execution_count": 6,
   "id": "62cb3167",
   "metadata": {},
   "outputs": [
    {
     "name": "stdout",
     "output_type": "stream",
     "text": [
      "The grid will be interpolated to sample_time with interp1d\n",
      "Training new model\n",
      "Normalizing mag filter u...\n",
      "Normalizing mag filter g...\n",
      "Normalizing mag filter r...\n",
      "Normalizing mag filter i...\n",
      "Normalizing mag filter z...\n",
      "Normalizing mag filter y...\n",
      "Normalizing mag filter J...\n",
      "Normalizing mag filter H...\n",
      "Normalizing mag filter K...\n",
      "Install tensorflow if you want to use it...\n"
     ]
    },
    {
     "ename": "KeyError",
     "evalue": "'model'",
     "output_type": "error",
     "traceback": [
      "\u001b[0;31m---------------------------------------------------------------------------\u001b[0m",
      "\u001b[0;31mKeyError\u001b[0m                                  Traceback (most recent call last)",
      "\u001b[0;32m/tmp/ipykernel_9692/1278576430.py\u001b[0m in \u001b[0;36m<module>\u001b[0;34m\u001b[0m\n\u001b[1;32m      1\u001b[0m \u001b[0;31m# two different interpolation types are possible \"sklearn_gp\" or \"tensorflow\"\u001b[0m\u001b[0;34m\u001b[0m\u001b[0;34m\u001b[0m\u001b[0m\n\u001b[1;32m      2\u001b[0m \u001b[0minterpolation_type\u001b[0m \u001b[0;34m=\u001b[0m \u001b[0;34m\"tensorflow\"\u001b[0m\u001b[0;34m\u001b[0m\u001b[0;34m\u001b[0m\u001b[0m\n\u001b[0;32m----> 3\u001b[0;31m training_model=training.SVDTrainingModel(\n\u001b[0m\u001b[1;32m      4\u001b[0m     \u001b[0mmodel_name\u001b[0m\u001b[0;34m,\u001b[0m\u001b[0;34m\u001b[0m\u001b[0;34m\u001b[0m\u001b[0m\n\u001b[1;32m      5\u001b[0m     \u001b[0mcopy\u001b[0m\u001b[0;34m.\u001b[0m\u001b[0mdeepcopy\u001b[0m\u001b[0;34m(\u001b[0m\u001b[0mtraining_data\u001b[0m\u001b[0;34m)\u001b[0m\u001b[0;34m,\u001b[0m\u001b[0;34m\u001b[0m\u001b[0;34m\u001b[0m\u001b[0m\n",
      "\u001b[0;32m~/KNTraP/model_fitting/nmma/nmma/em/training.py\u001b[0m in \u001b[0;36m__init__\u001b[0;34m(self, model, data, parameters, sample_times, filters, svd_path, n_coeff, n_epochs, interpolation_type, data_type, data_time_unit, plot, plotdir, ncpus, univariate_spline, univariate_spline_s)\u001b[0m\n\u001b[1;32m    105\u001b[0m             \u001b[0mself\u001b[0m\u001b[0;34m.\u001b[0m\u001b[0msvd_model\u001b[0m \u001b[0;34m=\u001b[0m \u001b[0mself\u001b[0m\u001b[0;34m.\u001b[0m\u001b[0mgenerate_svd_model\u001b[0m\u001b[0;34m(\u001b[0m\u001b[0;34m)\u001b[0m\u001b[0;34m\u001b[0m\u001b[0;34m\u001b[0m\u001b[0m\n\u001b[1;32m    106\u001b[0m             \u001b[0mself\u001b[0m\u001b[0;34m.\u001b[0m\u001b[0mtrain_model\u001b[0m\u001b[0;34m(\u001b[0m\u001b[0;34m)\u001b[0m\u001b[0;34m\u001b[0m\u001b[0;34m\u001b[0m\u001b[0m\n\u001b[0;32m--> 107\u001b[0;31m             \u001b[0mself\u001b[0m\u001b[0;34m.\u001b[0m\u001b[0msave_model\u001b[0m\u001b[0;34m(\u001b[0m\u001b[0;34m)\u001b[0m\u001b[0;34m\u001b[0m\u001b[0;34m\u001b[0m\u001b[0m\n\u001b[0m\u001b[1;32m    108\u001b[0m         \u001b[0;32melse\u001b[0m\u001b[0;34m:\u001b[0m\u001b[0;34m\u001b[0m\u001b[0;34m\u001b[0m\u001b[0m\n\u001b[1;32m    109\u001b[0m             \u001b[0mprint\u001b[0m\u001b[0;34m(\u001b[0m\u001b[0;34m\"Model exists... will load that model.\"\u001b[0m\u001b[0;34m)\u001b[0m\u001b[0;34m\u001b[0m\u001b[0;34m\u001b[0m\u001b[0m\n",
      "\u001b[0;32m~/KNTraP/model_fitting/nmma/nmma/em/training.py\u001b[0m in \u001b[0;36msave_model\u001b[0;34m(self)\u001b[0m\n\u001b[1;32m    500\u001b[0m             \u001b[0;32mfor\u001b[0m \u001b[0mfilt\u001b[0m \u001b[0;32min\u001b[0m \u001b[0mself\u001b[0m\u001b[0;34m.\u001b[0m\u001b[0msvd_model\u001b[0m\u001b[0;34m.\u001b[0m\u001b[0mkeys\u001b[0m\u001b[0;34m(\u001b[0m\u001b[0;34m)\u001b[0m\u001b[0;34m:\u001b[0m\u001b[0;34m\u001b[0m\u001b[0;34m\u001b[0m\u001b[0m\n\u001b[1;32m    501\u001b[0m                 \u001b[0moutfile\u001b[0m \u001b[0;34m=\u001b[0m \u001b[0mos\u001b[0m\u001b[0;34m.\u001b[0m\u001b[0mpath\u001b[0m\u001b[0;34m.\u001b[0m\u001b[0mjoin\u001b[0m\u001b[0;34m(\u001b[0m\u001b[0moutdir\u001b[0m\u001b[0;34m,\u001b[0m \u001b[0;34mf\"{filt}.h5\"\u001b[0m\u001b[0;34m)\u001b[0m\u001b[0;34m\u001b[0m\u001b[0;34m\u001b[0m\u001b[0m\n\u001b[0;32m--> 502\u001b[0;31m                 \u001b[0mself\u001b[0m\u001b[0;34m.\u001b[0m\u001b[0msvd_model\u001b[0m\u001b[0;34m[\u001b[0m\u001b[0mfilt\u001b[0m\u001b[0;34m]\u001b[0m\u001b[0;34m[\u001b[0m\u001b[0;34m\"model\"\u001b[0m\u001b[0;34m]\u001b[0m\u001b[0;34m.\u001b[0m\u001b[0msave\u001b[0m\u001b[0;34m(\u001b[0m\u001b[0moutfile\u001b[0m\u001b[0;34m)\u001b[0m\u001b[0;34m\u001b[0m\u001b[0;34m\u001b[0m\u001b[0m\n\u001b[0m\u001b[1;32m    503\u001b[0m                 \u001b[0;32mdel\u001b[0m \u001b[0mself\u001b[0m\u001b[0;34m.\u001b[0m\u001b[0msvd_model\u001b[0m\u001b[0;34m[\u001b[0m\u001b[0mfilt\u001b[0m\u001b[0;34m]\u001b[0m\u001b[0;34m[\u001b[0m\u001b[0;34m\"model\"\u001b[0m\u001b[0;34m]\u001b[0m\u001b[0;34m\u001b[0m\u001b[0;34m\u001b[0m\u001b[0m\n\u001b[1;32m    504\u001b[0m         \u001b[0;32melif\u001b[0m \u001b[0mself\u001b[0m\u001b[0;34m.\u001b[0m\u001b[0minterpolation_type\u001b[0m \u001b[0;34m==\u001b[0m \u001b[0;34m\"api_gp\"\u001b[0m\u001b[0;34m:\u001b[0m\u001b[0;34m\u001b[0m\u001b[0;34m\u001b[0m\u001b[0m\n",
      "\u001b[0;31mKeyError\u001b[0m: 'model'"
     ]
    }
   ],
   "source": [
    "# two different interpolation types are possible \"sklearn_gp\" or \"tensorflow\"\n",
    "interpolation_type = \"tensorflow\"\n",
    "training_model=training.SVDTrainingModel(\n",
    "    model_name,\n",
    "    copy.deepcopy(training_data),\n",
    "    parameters,\n",
    "    tt,\n",
    "    filts,\n",
    "    svd_path=ModelPath,\n",
    "    n_coeff=n_coeff,\n",
    "    interpolation_type=interpolation_type,\n",
    "    n_epochs=100\n",
    ")"
   ]
  },
  {
   "cell_type": "code",
   "execution_count": null,
   "id": "b4bc70bf",
   "metadata": {},
   "outputs": [],
   "source": [
    "tmin, tmax, dt = 0.5, 20.0, 0.1\n",
    "sample_times = np.arange(tmin, tmax + dt, dt)\n",
    "\n",
    "light_curve_model = SVDLightCurveModel(\n",
    "        model_name,\n",
    "        sample_times,\n",
    "        svd_path=ModelPath,\n",
    "        interpolation_type=interpolation_type,\n",
    "        model_parameters=training_model.model_parameters,\n",
    "        local_only=True\n",
    "    )"
   ]
  },
  {
   "cell_type": "markdown",
   "id": "548a0df3-1396-42b9-b22c-10d810791f0e",
   "metadata": {},
   "source": [
    "# 2. Plot AT17gfo light-curve"
   ]
  },
  {
   "cell_type": "code",
   "execution_count": null,
   "id": "8f4e6fb3",
   "metadata": {},
   "outputs": [],
   "source": [
    "# import AT2017gfo data\n",
    "data = pd.read_csv(f'{nmmapath}/example_files/lightcurves/AT2017gfo.dat',header=None,delim_whitespace=True)\n",
    "data.columns = ['time','filter','mag','magerr']"
   ]
  },
  {
   "cell_type": "code",
   "execution_count": null,
   "id": "50d73516",
   "metadata": {},
   "outputs": [],
   "source": [
    "# convert ISOT time formats into MJD for plotting\n",
    "times = data['time'].values.tolist()\n",
    "t = Time(times,format='isot')\n",
    "data['MJD'] = t.mjd"
   ]
  },
  {
   "cell_type": "code",
   "execution_count": null,
   "id": "77ad5cde",
   "metadata": {},
   "outputs": [],
   "source": [
    "# colors\n",
    "data['filter'].unique()\n",
    "colors = {'sdssu':'purple','ps1::g':'blue','ps1::r':'forestgreen','ps1::i':'gold','ps1::z':'orange','ps1::y':'red','2massj':'lightcoral','2massh':'firebrick','2massks':'darkred'}"
   ]
  },
  {
   "cell_type": "code",
   "execution_count": null,
   "id": "9a4b1320",
   "metadata": {},
   "outputs": [],
   "source": [
    "# plot light curve\n",
    "%matplotlib inline\n",
    "fig, ax = plt.subplots(1,1,figsize=(10,8))\n",
    "for flt in data['filter'].unique():\n",
    "    sel_flt = data[data['filter'] == flt]\n",
    "    ax.errorbar(sel_flt['MJD'],sel_flt['mag'],yerr=sel_flt['magerr'],label=flt, color=colors[flt],fmt='o')\n",
    "ax.set_ylabel(r'$mag_{AB}$', fontsize=18)\n",
    "ax.set_xlabel(r'$time~[d]$', fontsize=18)\n",
    "ax.set_ylim([25,17])\n",
    "ax.legend(fontsize=18)\n",
    "plt.show()"
   ]
  },
  {
   "cell_type": "markdown",
   "id": "c12a8967-7642-4d63-8508-c2c66b816d80",
   "metadata": {},
   "source": [
    "# 3. Fit Bulla 2019 model to AT17gfo"
   ]
  },
  {
   "cell_type": "code",
   "execution_count": null,
   "id": "ab8a32eb",
   "metadata": {},
   "outputs": [],
   "source": [
    "# create injection - find how to do this in jupyter notebook\n",
    "# nmma_create_injection --prior-file priors/Bu2019lm.prior --eos-file example_files/eos/ALF2.dat --binary-type BNS --n-injection 100 --original-parameters --extension json --aligned-spin"
   ]
  },
  {
   "cell_type": "code",
   "execution_count": null,
   "id": "dce1d9b0",
   "metadata": {},
   "outputs": [],
   "source": [
    "nmmapath"
   ]
  },
  {
   "cell_type": "code",
   "execution_count": null,
   "id": "89b71d5f",
   "metadata": {
    "scrolled": true
   },
   "outputs": [],
   "source": [
    "from argparse import Namespace\n",
    "\n",
    "injectionDir = f'{nmmapath}/nmma/tests/data'\n",
    "\n",
    "args = Namespace(\n",
    "    model=\"Bu2019lm\",\n",
    "    interpolation_type=\"tensorflow\",\n",
    "    svd_path=f'{nmmapath}/svdmodels/Bu2019lm',\n",
    "    outdir=\"./outdir\",\n",
    "    label=\"injection\",\n",
    "    trigger_time=57982,\n",
    "    data=f'{nmma}/nmma/example_files/lightcurves/AT2017gfo.dat',\n",
    "    prior=f'{nmma}/priors/Bu2019lm.prior',\n",
    "    tmin=0.1,\n",
    "    tmax=20.0,\n",
    "    dt=0.5,\n",
    "    log_space_time=False,\n",
    "    photometric_error_budget=0.1,\n",
    "    soft_init=False,\n",
    "    bestfit=True,\n",
    "    svd_mag_ncoeff=10,\n",
    "    svd_lbol_ncoeff=10,\n",
    "    filters=\"sdssu\",\n",
    "    Ebv_max=0.0,\n",
    "    grb_resolution=5,\n",
    "    jet_type=0,\n",
    "    error_budget=\"1\",\n",
    "    sampler=\"pymultinest\",\n",
    "    cpus=1,\n",
    "    nlive=1024,\n",
    "    reactive_sampling=False,\n",
    "    seed=42,\n",
    "    injection=f\"/home/nvanbemmel/KNTraP/model_fitting/injection.json\",\n",
    "    injection_num=0,\n",
    "    injection_detection_limit=None,\n",
    "    injection_outfile=\"outdir/lc.csv\",\n",
    "    injection_model=None,\n",
    "    remove_nondetections=True,\n",
    "    detection_limit=None,\n",
    "    with_grb_injection=False,\n",
    "    prompt_collapse=False,\n",
    "    ztf_sampling=False,\n",
    "    ztf_uncertainties=False,\n",
    "    ztf_ToO=None,\n",
    "    train_stats=False,\n",
    "    rubin_ToO=False,\n",
    "    rubin_ToO_type=None,\n",
    "    xlim=\"0,14\",\n",
    "    ylim=\"22,16\",\n",
    "    generation_seed=42,\n",
    "    plot=True,\n",
    "    bilby_zero_likelihood_mode=False,\n",
    "    photometry_augmentation=False,\n",
    "    photometry_augmentation_seed=0,\n",
    "    photometry_augmentation_N_points=10,\n",
    "    photometry_augmentation_filters=None,\n",
    "    photometry_augmentation_times=None,\n",
    "    conditional_gaussian_prior_thetaObs=False,\n",
    "    conditional_gaussian_prior_N_sigma=1,\n",
    "    sample_over_Hubble=False,\n",
    "    sampler_kwargs=\"{}\",\n",
    "    verbose=False,\n",
    "    local_only=True\n",
    "    )\n",
    "\n",
    "analysis.main(args)\n"
   ]
  },
  {
   "cell_type": "markdown",
   "id": "f11aaa9c-8775-4ec5-b6f1-d46b65eb99f0",
   "metadata": {},
   "source": [
    "# 4. Using Bulla obtained parameters generate AT17gfo-like light-curves at different redshifts and samples"
   ]
  },
  {
   "cell_type": "code",
   "execution_count": null,
   "id": "ee75fbc2-0f81-4abf-87df-b5efeb0d7b6b",
   "metadata": {},
   "outputs": [],
   "source": []
  }
 ],
 "metadata": {
  "kernelspec": {
   "display_name": "Python 3 (ipykernel)",
   "language": "python",
   "name": "python3"
  },
  "language_info": {
   "codemirror_mode": {
    "name": "ipython",
    "version": 3
   },
   "file_extension": ".py",
   "mimetype": "text/x-python",
   "name": "python",
   "nbconvert_exporter": "python",
   "pygments_lexer": "ipython3",
   "version": "3.9.13"
  },
  "vscode": {
   "interpreter": {
    "hash": "4f2297210c3cea95533424d45b6450cac4c0fff6aa0bbb88eb851a03214a45bd"
   }
  }
 },
 "nbformat": 4,
 "nbformat_minor": 5
}

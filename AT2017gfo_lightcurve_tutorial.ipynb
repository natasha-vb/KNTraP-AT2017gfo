{
 "cells": [
  {
   "cell_type": "code",
   "execution_count": 78,
   "id": "8feae237-b71c-48aa-b73f-42cab6b04f1e",
   "metadata": {},
   "outputs": [],
   "source": [
    "#general modules\n",
    "import numpy as np\n",
    "import pandas as pd\n",
    "import matplotlib.pyplot as plt\n",
    "import os, sys, time, glob\n",
    "from astropy.time import Time\n",
    "import copy\n",
    "import scipy\n",
    "\n",
    "#nmma modules\n",
    "nmmapath = os.getenv('NMMA') # path to nmma from environment variable\n",
    "sys.path.append(nmmapath) \n",
    "import nmma\n",
    "import nmma.em.utils as utils\n",
    "from nmma.em.model import SimpleKilonovaLightCurveModel,GRBLightCurveModel, SVDLightCurveModel, KilonovaGRBLightCurveModel, GenericCombineLightCurveModel\n",
    "from nmma.em import training, utils, model_parameters"
   ]
  },
  {
   "cell_type": "code",
   "execution_count": 2,
   "id": "011647b3-bcfe-497d-8fe6-0e369ae2a492",
   "metadata": {},
   "outputs": [],
   "source": [
    "import afterglowpy as grb"
   ]
  },
  {
   "cell_type": "markdown",
   "id": "6e7f71ec-1956-44d5-a95c-00e8d977373e",
   "metadata": {},
   "source": [
    "# Generate a light-curve Bulla 2019 model"
   ]
  },
  {
   "cell_type": "code",
   "execution_count": 9,
   "id": "a8499f4c",
   "metadata": {},
   "outputs": [],
   "source": [
    "model_name = \"Bu2019lm\"\n",
    "n_coeff = 3\n",
    "# The array of times we'll use to examine each lightcurve\n",
    "tini, tmax, dt = 0.1, 5.0, 0.2\n",
    "tt = np.arange(tini, tmax + dt, dt)  \n",
    "\n",
    "# filters to be used\n",
    "filts = [\"u\",\"g\",\"r\",\"i\",\"z\",\"y\",\"J\",\"H\",\"K\"] "
   ]
  },
  {
   "cell_type": "code",
   "execution_count": 91,
   "id": "d738c687",
   "metadata": {},
   "outputs": [
    {
     "name": "stdout",
     "output_type": "stream",
     "text": [
      "/home/nvanbemmel/KNTraP/model_fitting/KNTraP-AT2017gfo\n"
     ]
    }
   ],
   "source": [
    "# paths\n",
    "print(os.getcwd())\n",
    "dataDir = f\"{nmmapath}/nmma/tests/data/bulla\" # Example absolute path: \"/Users/fabioragosta/nmma/nmma/tests/data/bulla\"\n",
    "ModelPath = f\"{nmmapath}/nmma/svdmodels\" # Example absolute path: \"/Users/fabioragosta/nmma/svdmodels\"\n",
    "filenames = glob.glob(\"%s/*.dat\" % dataDir)"
   ]
  },
  {
   "cell_type": "code",
   "execution_count": 92,
   "id": "36f21fe3",
   "metadata": {},
   "outputs": [],
   "source": [
    "# load data\n",
    "data = utils.read_photometry_files(filenames, filters=filts) ## NOT compatible with newer NMMA version\n",
    "# Load the model data\n",
    "training_data, parameters = model_parameters.Bu2019lm_sparse(data)"
   ]
  },
  {
   "cell_type": "code",
   "execution_count": 93,
   "id": "b4bc70bf",
   "metadata": {},
   "outputs": [
    {
     "name": "stdout",
     "output_type": "stream",
     "text": [
      "Model exists... will load that model.\n"
     ]
    }
   ],
   "source": [
    "# two different interpolation types are possible \"sklearn_gp\" or \"tensorflow\"\n",
    "interpolation_type = \"sklearn_gp\"\n",
    "training_model=training.SVDTrainingModel(\n",
    "    model_name,\n",
    "    copy.deepcopy(training_data),\n",
    "    parameters,\n",
    "    tt,\n",
    "    filts,\n",
    "    svd_path=ModelPath,\n",
    "    n_coeff=n_coeff,\n",
    "    interpolation_type=interpolation_type,\n",
    "    n_epochs=100\n",
    ")\n",
    "\n",
    "tmin, tmax, dt = 0.5, 20.0, 0.1\n",
    "sample_times = np.arange(tmin, tmax + dt, dt)\n",
    "\n",
    "light_curve_model = SVDLightCurveModel(\n",
    "        model_name,\n",
    "        sample_times,\n",
    "        svd_path=ModelPath,\n",
    "        interpolation_type=interpolation_type,\n",
    "        model_parameters=training_model.model_parameters,\n",
    "    )"
   ]
  },
  {
   "cell_type": "markdown",
   "id": "548a0df3-1396-42b9-b22c-10d810791f0e",
   "metadata": {},
   "source": [
    "# 2. Plot AT17gfo light-curve"
   ]
  },
  {
   "cell_type": "code",
   "execution_count": 101,
   "id": "8f4e6fb3",
   "metadata": {},
   "outputs": [],
   "source": [
    "# import AT2017gfo data\n",
    "data = pd.read_csv(f'{nmmapath}/example_files/lightcurves/GW170817.dat',header=None,delim_whitespace=True)\n",
    "data.columns = ['time','filter','mag','magerr']"
   ]
  },
  {
   "cell_type": "code",
   "execution_count": 102,
   "id": "50d73516",
   "metadata": {},
   "outputs": [],
   "source": [
    "# convert ISOT time formats into MJD for plotting\n",
    "from astropy.time import Time\n",
    "times = data['time'].values.tolist()\n",
    "t = Time(times,format='isot')\n",
    "data['MJD'] = t.mjd"
   ]
  },
  {
   "cell_type": "code",
   "execution_count": 103,
   "id": "b3702545",
   "metadata": {},
   "outputs": [
    {
     "data": {
      "text/html": [
       "<div>\n",
       "<style scoped>\n",
       "    .dataframe tbody tr th:only-of-type {\n",
       "        vertical-align: middle;\n",
       "    }\n",
       "\n",
       "    .dataframe tbody tr th {\n",
       "        vertical-align: top;\n",
       "    }\n",
       "\n",
       "    .dataframe thead th {\n",
       "        text-align: right;\n",
       "    }\n",
       "</style>\n",
       "<table border=\"1\" class=\"dataframe\">\n",
       "  <thead>\n",
       "    <tr style=\"text-align: right;\">\n",
       "      <th></th>\n",
       "      <th>time</th>\n",
       "      <th>filter</th>\n",
       "      <th>mag</th>\n",
       "      <th>magerr</th>\n",
       "      <th>MJD</th>\n",
       "    </tr>\n",
       "  </thead>\n",
       "  <tbody>\n",
       "    <tr>\n",
       "      <th>0</th>\n",
       "      <td>2017-08-18T00:00:00.000</td>\n",
       "      <td>g</td>\n",
       "      <td>17.41</td>\n",
       "      <td>0.02</td>\n",
       "      <td>57983.000</td>\n",
       "    </tr>\n",
       "    <tr>\n",
       "      <th>1</th>\n",
       "      <td>2017-08-18T00:00:00.000</td>\n",
       "      <td>r</td>\n",
       "      <td>17.56</td>\n",
       "      <td>0.04</td>\n",
       "      <td>57983.000</td>\n",
       "    </tr>\n",
       "    <tr>\n",
       "      <th>2</th>\n",
       "      <td>2017-08-18T00:00:00.000</td>\n",
       "      <td>i</td>\n",
       "      <td>17.48</td>\n",
       "      <td>0.03</td>\n",
       "      <td>57983.000</td>\n",
       "    </tr>\n",
       "    <tr>\n",
       "      <th>3</th>\n",
       "      <td>2017-08-18T00:00:00.000</td>\n",
       "      <td>z</td>\n",
       "      <td>17.59</td>\n",
       "      <td>0.03</td>\n",
       "      <td>57983.000</td>\n",
       "    </tr>\n",
       "    <tr>\n",
       "      <th>4</th>\n",
       "      <td>2017-08-18T00:00:00.000</td>\n",
       "      <td>y</td>\n",
       "      <td>17.46</td>\n",
       "      <td>0.01</td>\n",
       "      <td>57983.000</td>\n",
       "    </tr>\n",
       "    <tr>\n",
       "      <th>...</th>\n",
       "      <td>...</td>\n",
       "      <td>...</td>\n",
       "      <td>...</td>\n",
       "      <td>...</td>\n",
       "      <td>...</td>\n",
       "    </tr>\n",
       "    <tr>\n",
       "      <th>136</th>\n",
       "      <td>2017-09-01T23:29:45.600</td>\n",
       "      <td>K</td>\n",
       "      <td>20.17</td>\n",
       "      <td>0.08</td>\n",
       "      <td>57997.979</td>\n",
       "    </tr>\n",
       "    <tr>\n",
       "      <th>137</th>\n",
       "      <td>2017-09-03T23:31:12.000</td>\n",
       "      <td>K</td>\n",
       "      <td>20.77</td>\n",
       "      <td>0.13</td>\n",
       "      <td>57999.980</td>\n",
       "    </tr>\n",
       "    <tr>\n",
       "      <th>138</th>\n",
       "      <td>2017-09-04T23:11:02.400</td>\n",
       "      <td>K</td>\n",
       "      <td>20.76</td>\n",
       "      <td>0.35</td>\n",
       "      <td>58000.966</td>\n",
       "    </tr>\n",
       "    <tr>\n",
       "      <th>139</th>\n",
       "      <td>2017-09-07T23:15:21.600</td>\n",
       "      <td>K</td>\n",
       "      <td>21.46</td>\n",
       "      <td>0.08</td>\n",
       "      <td>58003.969</td>\n",
       "    </tr>\n",
       "    <tr>\n",
       "      <th>140</th>\n",
       "      <td>2017-09-11T23:15:21.600</td>\n",
       "      <td>K</td>\n",
       "      <td>22.06</td>\n",
       "      <td>0.22</td>\n",
       "      <td>58007.969</td>\n",
       "    </tr>\n",
       "  </tbody>\n",
       "</table>\n",
       "<p>141 rows × 5 columns</p>\n",
       "</div>"
      ],
      "text/plain": [
       "                        time filter    mag  magerr        MJD\n",
       "0    2017-08-18T00:00:00.000      g  17.41    0.02  57983.000\n",
       "1    2017-08-18T00:00:00.000      r  17.56    0.04  57983.000\n",
       "2    2017-08-18T00:00:00.000      i  17.48    0.03  57983.000\n",
       "3    2017-08-18T00:00:00.000      z  17.59    0.03  57983.000\n",
       "4    2017-08-18T00:00:00.000      y  17.46    0.01  57983.000\n",
       "..                       ...    ...    ...     ...        ...\n",
       "136  2017-09-01T23:29:45.600      K  20.17    0.08  57997.979\n",
       "137  2017-09-03T23:31:12.000      K  20.77    0.13  57999.980\n",
       "138  2017-09-04T23:11:02.400      K  20.76    0.35  58000.966\n",
       "139  2017-09-07T23:15:21.600      K  21.46    0.08  58003.969\n",
       "140  2017-09-11T23:15:21.600      K  22.06    0.22  58007.969\n",
       "\n",
       "[141 rows x 5 columns]"
      ]
     },
     "execution_count": 103,
     "metadata": {},
     "output_type": "execute_result"
    }
   ],
   "source": [
    "data"
   ]
  },
  {
   "cell_type": "code",
   "execution_count": 104,
   "id": "77ad5cde",
   "metadata": {},
   "outputs": [],
   "source": [
    "# colors\n",
    "data['filter'].unique()\n",
    "colors = {'u':'purple','g':'blue','r':'forestgreen','i':'gold','z':'orange','y':'red','J':'lightcoral','H':'firebrick','K':'darkred'}"
   ]
  },
  {
   "cell_type": "code",
   "execution_count": 106,
   "id": "9a4b1320",
   "metadata": {},
   "outputs": [
    {
     "data": {
      "image/png": "[encoded data removed]",
      "text/plain": [
       "<Figure size 1000x800 with 1 Axes>"
      ]
     },
     "metadata": {},
     "output_type": "display_data"
    }
   ],
   "source": [
    "# plot light curve\n",
    "fig, ax = plt.subplots(1,1,figsize=(10,8))\n",
    "for flt in data['filter'].unique():\n",
    "    sel_flt = data[data['filter'] == flt]\n",
    "    ax.errorbar(sel_flt['MJD'],sel_flt['mag'],yerr=sel_flt['magerr'],label=flt, color=colors[flt],fmt='o')\n",
    "ax.set_ylabel(r'$mag_{AB}$', fontsize=18)\n",
    "ax.set_xlabel(r'$time~[d]$', fontsize=18)\n",
    "ax.set_ylim([25,17])\n",
    "ax.legend(fontsize=18)\n",
    "plt.show()"
   ]
  },
  {
   "cell_type": "markdown",
   "id": "c12a8967-7642-4d63-8508-c2c66b816d80",
   "metadata": {},
   "source": [
    "# 3. Fit Bulla 2019 model to AT17gfo"
   ]
  },
  {
   "cell_type": "code",
   "execution_count": null,
   "id": "6e88baaa",
   "metadata": {},
   "outputs": [],
   "source": [
    "# not sure how to do model fitting in a jupyter notebook. \n",
    "# have only been able to do this using the command line:\n",
    "# light_curve_analysis --model Bu2019lm --svd-path nmma/svdmodels/ --interpolation_type tensorflow --outdir outdir_at2017gfo_d --label injection --prior nmma/priors/Bu2019lm.at2017gfo.prior --tmin 0.1 --tmax 20 --dt 0.5 --error-budget 1 --nlive 1024 --Ebv-max 0 --trigger-time 57982.5285236896 --data nmma/example_files/lightcurves/GW170817.dat --plot"
   ]
  },
  {
   "cell_type": "markdown",
   "id": "f11aaa9c-8775-4ec5-b6f1-d46b65eb99f0",
   "metadata": {},
   "source": [
    "# 4. Using Bulla obtained parameters generate AT17gfo-like light-curves at different redshifts and samples"
   ]
  },
  {
   "cell_type": "code",
   "execution_count": null,
   "id": "ee75fbc2-0f81-4abf-87df-b5efeb0d7b6b",
   "metadata": {},
   "outputs": [],
   "source": []
  }
 ],
 "metadata": {
  "kernelspec": {
   "display_name": "Python 3 (ipykernel)",
   "language": "python",
   "name": "python3"
  },
  "language_info": {
   "codemirror_mode": {
    "name": "ipython",
    "version": 3
   },
   "file_extension": ".py",
   "mimetype": "text/x-python",
   "name": "python",
   "nbconvert_exporter": "python",
   "pygments_lexer": "ipython3",
   "version": "3.9.13"
  },
  "vscode": {
   "interpreter": {
    "hash": "4f2297210c3cea95533424d45b6450cac4c0fff6aa0bbb88eb851a03214a45bd"
   }
  }
 },
 "nbformat": 4,
 "nbformat_minor": 5
}
